{
  "cells": [
    {
      "cell_type": "markdown",
      "id": "648c0b2c-d572-4572-8319-8eeb134854f9",
      "metadata": {
        "id": "648c0b2c-d572-4572-8319-8eeb134854f9"
      },
      "source": [
        "## [Nonlinear] Artificial neural networks (ANN)"
      ]
    },
    {
      "cell_type": "code",
      "execution_count": 1,
      "id": "86950b05-66f3-4b8f-b47c-5d238ca707a9",
      "metadata": {
        "id": "86950b05-66f3-4b8f-b47c-5d238ca707a9"
      },
      "outputs": [],
      "source": [
        "import matplotlib.pylab as plt \n",
        "import numpy as np\n",
        "\n",
        "from matplotlib import rcParams\n",
        "\n",
        "# figure size in inches\n",
        "rcParams['figure.figsize'] = 11.7,8.27 # A4 format\n",
        "\n",
        "#  simulated biological neuron activation"
      ]
    },
    {
      "cell_type": "markdown",
      "id": "487ec863-9cd7-4850-a5c8-c563a9cef353",
      "metadata": {
        "id": "487ec863-9cd7-4850-a5c8-c563a9cef353"
      },
      "source": [
        "### Putting together  into a three-layers  structure\n",
        "$W^{(1)}=[\\bf{w}^{(1)\\top}_1, \\bf{w}^{(1)\\top}_2,\\bf{w}^{(1)\\top}_3]$\n",
        "\n",
        "![Three-layer-network.webp](data:image/webp;base64,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)"
      ]
    },
    {
      "cell_type": "code",
      "execution_count": 2,
      "id": "2c1a7c3d-90e3-4feb-8512-a50a1cf03190",
      "metadata": {
        "id": "2c1a7c3d-90e3-4feb-8512-a50a1cf03190"
      },
      "outputs": [],
      "source": [
        "w1 = np.array([[.1,.1,.1],[.3,.3,.3],[.9,.9,.9]])"
      ]
    },
    {
      "cell_type": "markdown",
      "id": "b789bd49-295a-451c-a0df-f2c315dd42a2",
      "metadata": {
        "id": "b789bd49-295a-451c-a0df-f2c315dd42a2"
      },
      "source": [
        "$W^{(2)}=[ {w}^{(2) }_1,  {w}^{(2) }_2, {w}^{(2)\\ }_3]$"
      ]
    },
    {
      "cell_type": "code",
      "execution_count": 3,
      "id": "dedb10d9-0c29-469a-b06d-51b5b3bb2d4d",
      "metadata": {
        "id": "dedb10d9-0c29-469a-b06d-51b5b3bb2d4d"
      },
      "outputs": [],
      "source": [
        "w2 = np.zeros((1,3))\n",
        "w2 [0,:] = np.array([.6,.6,.6])"
      ]
    },
    {
      "cell_type": "code",
      "execution_count": 4,
      "id": "4367a440-9cc5-4ee2-a8fa-90540fd8713e",
      "metadata": {
        "id": "4367a440-9cc5-4ee2-a8fa-90540fd8713e"
      },
      "outputs": [],
      "source": [
        "#  bias weight array/vector of layers\n",
        "b1 = np.array([0.75,.075,.75])\n",
        "b2 = np.array([.25])"
      ]
    },
    {
      "cell_type": "code",
      "execution_count": 5,
      "id": "528d5da3-8af5-464d-b6f2-effb1a135ee9",
      "metadata": {
        "id": "528d5da3-8af5-464d-b6f2-effb1a135ee9"
      },
      "outputs": [],
      "source": [
        "def f(x):\n",
        "     return 1/(1+np.exp(-x))"
      ]
    },
    {
      "cell_type": "markdown",
      "source": [
        "\n",
        "\n",
        "> feed-forward pass\n",
        "\n",
        "\n",
        "\n",
        "$$\\begin{align}\n",
        " h_1^{(2)} &= f(w_{11}^{(1)}x_1 + w_{12}^{(1)} x_2 + w_{13}^{(1)} x_3 + b_1^{(1)}) \\\\\n",
        " h_2^{(2)} &= f(w_{21}^{(1)}x_1 + w_{22}^{(1)} x_2 + w_{23}^{(1)} x_3 + b_2^{(1)}) \\\\\n",
        " h_3^{(2)} &= f(w_{31}^{(1)}x_1 + w_{32}^{(1)} x_2 + w_{33}^{(1)} x_3 + b_3^{(1)}) \\\\\n",
        " h_{W,b}(x) &= h_1^{(3)} = f(w_{11}^{(2)}h_1^{(2)} + w_{12}^{(2)} h_2^{(2)} + w_{13}^{(2)} h_3^{(2)} + b_1^{(2)})\n",
        " \\end{align}$$"
      ],
      "metadata": {
        "id": "1uvBtHjUHTS-"
      },
      "id": "1uvBtHjUHTS-"
    },
    {
      "cell_type": "markdown",
      "source": [
        "first attempt at a feed-forward function"
      ],
      "metadata": {
        "id": "VacH7XpZH1X-"
      },
      "id": "VacH7XpZH1X-"
    },
    {
      "cell_type": "code",
      "execution_count": 6,
      "id": "bd9df0a6-6c44-43d8-8355-4c01ad087d60",
      "metadata": {
        "id": "bd9df0a6-6c44-43d8-8355-4c01ad087d60"
      },
      "outputs": [],
      "source": [
        "def simple_looped_nn_calc(n_layers, x, w, b):\n",
        "    for l in range(n_layers-1):\n",
        "        #Setup the input array which the weights will be multiplied by for each layer\n",
        "        #If it's the first layer, the input array will be the x input vector\n",
        "        #If it's not the first layer, the input to the next layer will be the \n",
        "        #output of the previous layer\n",
        "        if l == 0:\n",
        "            node_in = x\n",
        "        else:\n",
        "            node_in = h\n",
        "        #Setup the output array for the nodes in layer l + 1\n",
        "        h = np.zeros((w[l].shape[0],))\n",
        "        #loop through the rows of the weight array\n",
        "        for i in range(w[l].shape[0]):\n",
        "            #setup the sum inside the activation function\n",
        "            f_sum = 0\n",
        "            #loop through the columns of the weight array\n",
        "            for j in range(w[l].shape[1]):\n",
        "                f_sum += w[l][i][j] * node_in[j]\n",
        "            #add the bias\n",
        "            f_sum += b[l][i]\n",
        "            #finally use the activation function to calculate the\n",
        "            #i-th output i.e. h1, h2, h3\n",
        "            h[i] = f(f_sum)\n",
        "    return h"
      ]
    },
    {
      "cell_type": "code",
      "execution_count": 7,
      "id": "40140e31-2102-4b38-ad0c-964b6c692c65",
      "metadata": {
        "id": "40140e31-2102-4b38-ad0c-964b6c692c65"
      },
      "outputs": [],
      "source": [
        "w = [w1, w2]\n",
        "b = [b1, b2]\n",
        "#a dummy x input vector\n",
        "x = [1.5, 2.0, 3.0]"
      ]
    },
    {
      "cell_type": "markdown",
      "source": [
        "$$ \\begin{align}\n",
        " h_1^{(2)} &= f(0.2*1.5 + 0.2*2.0 + 0.2*3.0 + 0.8) = 0.8909 \\\\\n",
        " h_2^{(2)} &= f(0.4*1.5 + 0.4*2.0 + 0.4*3.0 + 0.8) = 0.9677 \\\\\n",
        " h_3^{(2)} &= f(0.6*1.5 + 0.6*2.0 + 0.6*3.0 + 0.8) = 0.9909 \\\\\n",
        " h_{W,b}(x) &= h_1^{(3)} = f(0.5*0.8909 + 0.5*0.9677 + 0.5*0.9909 + 0.2) = 0.8354\n",
        " \\end{align}$$"
      ],
      "metadata": {
        "id": "GC7hOYDDIBAm"
      },
      "id": "GC7hOYDDIBAm"
    },
    {
      "cell_type": "code",
      "execution_count": 8,
      "id": "bae786b4-a7ef-4298-861c-d097fddbf33b",
      "metadata": {
        "colab": {
          "base_uri": "https://localhost:8080/"
        },
        "id": "bae786b4-a7ef-4298-861c-d097fddbf33b",
        "outputId": "fe212df1-f093-4be1-e40e-5a86781636f8"
      },
      "outputs": [
        {
          "output_type": "execute_result",
          "data": {
            "text/plain": [
              "array([0.86535911])"
            ]
          },
          "metadata": {},
          "execution_count": 8
        }
      ],
      "source": [
        "simple_looped_nn_calc(3, x, w, b)"
      ]
    },
    {
      "cell_type": "markdown",
      "source": [
        "Vectorisation in neural networks\n",
        "\n",
        "First note calculation\n",
        "$$z_{1}^{(2)} = w_{11}^{(1)}x_1 + w_{12}^{(1)} x_2 + w_{13}^{(1)} x_3 + b_1^{(1)} = \\sum_{j=1}^{n} w_{ij}^{(1)}x_i + b_{i}^{(1)}$$\n",
        "\n",
        "Computation of remaining nodes:\n",
        "\n",
        "$$\\begin{align}\n",
        " z^{(2)} &= W^{(1)} x + b^{(1)} \\\\\n",
        " h^{(2)} &= f(z^{(2)}) \\\\\n",
        " z^{(3)} &= W^{(2)} h^{(2)} + b^{(2)} \\\\\n",
        " h_{W,b}(x) &= h^{(3)} = f(z^{(3)})\n",
        " \\end{align}\n",
        " $$\n",
        "\n",
        "forward propagation of the calculations through any number of layers in the neural network by generalising:\n",
        "\n",
        "$$\\begin{align}\n",
        " z^{(l+1)} &= W^{(l)} h^{(l)} + b^{(l)}   \\\\\n",
        " h^{(l+1)} &= f(z^{(l+1)})\n",
        " \\end{align}$$"
      ],
      "metadata": {
        "id": "lBkoRKvuIHRG"
      },
      "id": "lBkoRKvuIHRG"
    },
    {
      "cell_type": "code",
      "execution_count": 9,
      "id": "95ec09d1-cdd8-4316-8129-29c296bf2f96",
      "metadata": {
        "id": "95ec09d1-cdd8-4316-8129-29c296bf2f96"
      },
      "outputs": [],
      "source": [
        "def matrix_feed_forward_calc(n_layers, x, w, b):\n",
        "    for l in range(n_layers-1):\n",
        "        if l == 0:\n",
        "            node_in = x\n",
        "        else:\n",
        "            node_in = h\n",
        "        z = w[l].dot(node_in) + b[l]\n",
        "        h = f(z)\n",
        "    return h"
      ]
    },
    {
      "cell_type": "code",
      "execution_count": 10,
      "id": "eb029cbf-f55d-42f0-80e8-b8406390d7d2",
      "metadata": {
        "colab": {
          "base_uri": "https://localhost:8080/"
        },
        "id": "eb029cbf-f55d-42f0-80e8-b8406390d7d2",
        "outputId": "739306fe-4482-4e75-8aa4-c4bbd7f3750d"
      },
      "outputs": [
        {
          "output_type": "stream",
          "name": "stdout",
          "text": [
            "The local minimum occurs at 2.249965\n"
          ]
        }
      ],
      "source": [
        "x_old = 0 # The value does not matter as long as abs(x_new - x_old) > precision\n",
        "x_new = 6 # The algorithm starts at x=6\n",
        "gamma = 0.01 # step size\n",
        "precision = 0.00001\n",
        "\n",
        "def df(x):\n",
        "    y = 4 * x**3 - 9 * x**2\n",
        "    return y\n",
        "\n",
        "while abs(x_new - x_old) > precision:\n",
        "    x_old = x_new\n",
        "    x_new += -gamma * df(x_old)\n",
        "\n",
        "print(\"The local minimum occurs at %f\" % x_new)"
      ]
    },
    {
      "cell_type": "markdown",
      "source": [
        "Main\n",
        "http://adventuresinmachinelearning.com/neural-networks-tutorial/\n",
        "\n",
        "\n",
        "\n",
        "1.   https://www.python-course.eu/dividing_lines_between_classes.php\n",
        "2.   https://adventuresinmachinelearning.com/wp-content/uploads/2017/07/An-introduction-to-neural-networks-for-beginners.pdf\n",
        "3.   https://deeplearning.lipingyang.orgposts-from-dr-andy-thomass-adventures-in-machine-learning/\n",
        "4. \n",
        "http://adventuresinmachinelearning.com/neural-networks-tutorial/"
      ],
      "metadata": {
        "id": "MgoujUCzFtCQ"
      },
      "id": "MgoujUCzFtCQ"
    }
  ],
  "metadata": {
    "kernelspec": {
      "display_name": "Python 3 (ipykernel)",
      "language": "python",
      "name": "python3"
    },
    "language_info": {
      "codemirror_mode": {
        "name": "ipython",
        "version": 3
      },
      "file_extension": ".py",
      "mimetype": "text/x-python",
      "name": "python",
      "nbconvert_exporter": "python",
      "pygments_lexer": "ipython3",
      "version": "3.7.4"
    },
    "colab": {
      "name": "04cNlinearNN.ipynb",
      "provenance": []
    }
  },
  "nbformat": 4,
  "nbformat_minor": 5
}